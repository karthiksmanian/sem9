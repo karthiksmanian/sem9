{
 "cells": [
  {
   "cell_type": "code",
   "execution_count": 20,
   "id": "830e93e6",
   "metadata": {},
   "outputs": [],
   "source": [
    "import unittest"
   ]
  },
  {
   "cell_type": "code",
   "execution_count": 21,
   "id": "16289df2",
   "metadata": {},
   "outputs": [],
   "source": [
    "def calculate_average(marks):\n",
    "    n = len(marks)\n",
    "    tot = sum(marks)\n",
    "    return tot/n\n",
    "\n",
    "def check_marks(*marks):\n",
    "    avg = calculate_average(marks)\n",
    "    if avg>100 or avg<0:\n",
    "        return \"Invalid\"\n",
    "    \n",
    "    if avg>=90 and avg<=100:\n",
    "        return \"Distinction\"\n",
    "    elif avg>=75 and avg<=89:\n",
    "        return \"First Class\"\n",
    "    elif avg>=60 and avg<=74:\n",
    "        return \"Second Class\"\n",
    "    elif avg>=50 and avg<=59:\n",
    "        return \"Third Class\"\n",
    "    else:\n",
    "        return \"Fail\""
   ]
  },
  {
   "cell_type": "code",
   "execution_count": 22,
   "id": "9db9224e",
   "metadata": {},
   "outputs": [],
   "source": [
    "class TestCheckMarks(unittest.TestCase):\n",
    "    def __init__(self):\n",
    "        pass\n",
    "\n",
    "    def test_check_marks_below_lb(self):\n",
    "        self.assertEqual(check_marks(89,89,89),\"First Class\")\n",
    "        self.assertEqual(check_marks(74,74,74),\"Second Class\")\n",
    "        self.assertEqual(check_marks(59,59,59),\"Third Class\")\n",
    "        self.assertEqual(check_marks(49,49,49),\"Fail\")\n",
    "        \n",
    "    def test_check_marks_at_lb(self):\n",
    "        self.assertEqual(check_marks(90,90,90),\"Distinction\")\n",
    "        self.assertEqual(check_marks(75,75,75),\"First Class\")\n",
    "        self.assertEqual(check_marks(50,50,50),\"Third Class\")\n",
    "\n",
    "    def test_check_marks_in_mid(self):\n",
    "        self.assertEqual(check_marks(94,94,94),\"Distinction\")\n",
    "        self.assertEqual(check_marks(77,77,77),\"First Class\")\n",
    "\n",
    "    def test_check_marks_at_rb(self):\n",
    "        self.assertEqual(check_marks(100,100,100),\"Distinction\")\n",
    "        self.assertEqual(check_marks(89,89,89),\"First Class\")\n",
    "\n",
    "    def test_check_marks_above_rb(self):\n",
    "        self.assertEqual(check_marks(101,101,101),\"Invalid\")\n",
    "        self.assertEqual(check_marks(89,89,89),\"First Class\")\n"
   ]
  },
  {
   "cell_type": "code",
   "execution_count": 23,
   "id": "a1cafbee",
   "metadata": {},
   "outputs": [
    {
     "name": "stderr",
     "output_type": "stream",
     "text": [
      "E\n",
      "======================================================================\n",
      "ERROR: C:\\Users\\TEMP (unittest.loader._FailedTest)\n",
      "----------------------------------------------------------------------\n",
      "AttributeError: module '__main__' has no attribute 'C:\\Users\\TEMP'\n",
      "\n",
      "----------------------------------------------------------------------\n",
      "Ran 1 test in 0.001s\n",
      "\n",
      "FAILED (errors=1)\n"
     ]
    },
    {
     "ename": "SystemExit",
     "evalue": "True",
     "output_type": "error",
     "traceback": [
      "An exception has occurred, use %tb to see the full traceback.\n",
      "\u001b[1;31mSystemExit\u001b[0m\u001b[1;31m:\u001b[0m True\n"
     ]
    },
    {
     "name": "stderr",
     "output_type": "stream",
     "text": [
      "C:\\ProgramData\\anaconda3\\lib\\site-packages\\IPython\\core\\interactiveshell.py:3468: UserWarning: To exit: use 'exit', 'quit', or Ctrl-D.\n",
      "  warn(\"To exit: use 'exit', 'quit', or Ctrl-D.\", stacklevel=1)\n"
     ]
    }
   ],
   "source": [
    "unittest.main()"
   ]
  },
  {
   "cell_type": "code",
   "execution_count": null,
   "id": "15bb4415",
   "metadata": {},
   "outputs": [],
   "source": []
  }
 ],
 "metadata": {
  "kernelspec": {
   "display_name": "Python 3 (ipykernel)",
   "language": "python",
   "name": "python3"
  },
  "language_info": {
   "codemirror_mode": {
    "name": "ipython",
    "version": 3
   },
   "file_extension": ".py",
   "mimetype": "text/x-python",
   "name": "python",
   "nbconvert_exporter": "python",
   "pygments_lexer": "ipython3",
   "version": "3.10.9"
  }
 },
 "nbformat": 4,
 "nbformat_minor": 5
}
