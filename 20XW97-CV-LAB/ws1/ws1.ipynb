{
 "cells": [
  {
   "cell_type": "code",
   "execution_count": 2,
   "id": "ce7a8ab4",
   "metadata": {},
   "outputs": [],
   "source": [
    "# !pip install sounddevice"
   ]
  },
  {
   "cell_type": "code",
   "execution_count": 4,
   "id": "d9c07490",
   "metadata": {},
   "outputs": [],
   "source": [
    "# Task 1: Record your voice by saying \"Hello\" and save it as .wav file. \n",
    "# Read it and display the voice."
   ]
  },
  {
   "cell_type": "code",
   "execution_count": 10,
   "id": "1f2f7cc4",
   "metadata": {},
   "outputs": [],
   "source": [
    "import sounddevice as sd\n",
    "import numpy as np\n",
    "from scipy.io.wavfile import read"
   ]
  },
  {
   "cell_type": "code",
   "execution_count": 21,
   "id": "683a7afa",
   "metadata": {},
   "outputs": [
    {
     "name": "stderr",
     "output_type": "stream",
     "text": [
      "C:\\Users\\TEMP.WINSERVER\\AppData\\Local\\Temp\\ipykernel_14972\\1053212914.py:1: WavFileWarning: Chunk (non-data) not understood, skipping it.\n",
      "  fs, audio_array = read('Z:/20XW97-CV-LAB/assets/audio/hello.wav')\n"
     ]
    }
   ],
   "source": [
    "fs, audio_array = read('Z:/20XW97-CV-LAB/assets/audio/hello.wav')"
   ]
  },
  {
   "cell_type": "code",
   "execution_count": 28,
   "id": "646b30e9",
   "metadata": {},
   "outputs": [],
   "source": [
    "sd.play(audio_array, fs)"
   ]
  },
  {
   "cell_type": "code",
   "execution_count": 29,
   "id": "134b7351",
   "metadata": {},
   "outputs": [],
   "source": [
    "# Task 2: Read Lloyd-Max quantization algorithm.\n",
    "# If you can understand the concept, try to implement the algorithm.\n",
    "# If you could not understand the algorithm, dont do the task."
   ]
  },
  {
   "cell_type": "code",
   "execution_count": null,
   "id": "ac363a2f",
   "metadata": {},
   "outputs": [],
   "source": []
  }
 ],
 "metadata": {
  "kernelspec": {
   "display_name": "Python 3 (ipykernel)",
   "language": "python",
   "name": "python3"
  },
  "language_info": {
   "codemirror_mode": {
    "name": "ipython",
    "version": 3
   },
   "file_extension": ".py",
   "mimetype": "text/x-python",
   "name": "python",
   "nbconvert_exporter": "python",
   "pygments_lexer": "ipython3",
   "version": "3.10.9"
  }
 },
 "nbformat": 4,
 "nbformat_minor": 5
}
