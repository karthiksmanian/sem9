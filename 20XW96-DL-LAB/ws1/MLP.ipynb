{
  "nbformat": 4,
  "nbformat_minor": 0,
  "metadata": {
    "colab": {
      "provenance": []
    },
    "kernelspec": {
      "name": "python3",
      "display_name": "Python 3"
    },
    "language_info": {
      "name": "python"
    }
  },
  "cells": [
    {
      "cell_type": "code",
      "execution_count": 1,
      "metadata": {
        "id": "BvwfhofJglb4"
      },
      "outputs": [],
      "source": [
        "import pandas as pd\n",
        "import numpy as np"
      ]
    },
    {
      "cell_type": "code",
      "source": [
        "class MultiLayerPerceptron:\n",
        "    def __init__(self, df):\n",
        "        self.n_datapoints = df.shape[0]\n",
        "        self.x = df.loc[:, df.columns!='y']\n",
        "        self.y = df['y']\n",
        "        self.d_features = self.x.shape[1]\n",
        "        self.x.insert(0, 'x0', 1)\n",
        "        self.Wij = [np.array([0 for _ in range(self.d_features+1)]) for _ in range(self.n_datapoints)]\n",
        "        self.Wj1 = np.array([0 for _ in range(self.n_datapoints+1)])\n",
        "\n",
        "    def display_attr(self):\n",
        "        print(self.n_datapoints)\n",
        "        print(self.x)\n",
        "        print(self.y)\n",
        "        print(self.d_features)\n",
        "        print(self.Wij)\n",
        "        print(self.Wj1)\n",
        "\n",
        "    def sigmoid(self, x):\n",
        "        return 1/(1+np.exp(-x))\n",
        "\n",
        "    def train_model(self):\n",
        "        x = self.x\n",
        "        y = self.y\n",
        "        epochs = 0\n",
        "        n = self.n_datapoints\n",
        "        d = self.d_features\n",
        "        Wijs = self.Wij\n",
        "        Wj1 = self.Wij\n",
        "        m = len(Wijs)\n",
        "        p = 1\n",
        "\n",
        "        while True:\n",
        "            # IP ----> Hidden Layer\n",
        "            for i in range(n):\n",
        "                x_vec = x.iloc[i]\n",
        "                Oj = []\n",
        "\n",
        "                for Wij in Wijs:\n",
        "                    Oj = self.sigmoid(Wij.T.dot(x_vec))\n",
        "                    print(x_vec, Wij, Oj)\n",
        "\n",
        "\n",
        "            break\n"
      ],
      "metadata": {
        "id": "blRwT9CTh20_"
      },
      "execution_count": 22,
      "outputs": []
    },
    {
      "cell_type": "code",
      "source": [
        "xor_df = pd.DataFrame({'x1':[0, 0, 1, 1], 'x2':[0, 1, 0, 1], 'y':[0, 1, 1, 0]})"
      ],
      "metadata": {
        "id": "T7lH54v-gu6L"
      },
      "execution_count": 18,
      "outputs": []
    },
    {
      "cell_type": "code",
      "source": [
        "mlp1 = MultiLayerPerceptron(xor_df)"
      ],
      "metadata": {
        "id": "QgcnNkOthzIA"
      },
      "execution_count": 19,
      "outputs": []
    },
    {
      "cell_type": "code",
      "source": [
        "mlp1.display_attr()"
      ],
      "metadata": {
        "colab": {
          "base_uri": "https://localhost:8080/"
        },
        "id": "otKyb5pjh0r-",
        "outputId": "8866c6d8-b6a9-4a5e-f43b-3cd8d6a43aeb"
      },
      "execution_count": 20,
      "outputs": [
        {
          "output_type": "stream",
          "name": "stdout",
          "text": [
            "4\n",
            "   x0  x1  x2\n",
            "0   1   0   0\n",
            "1   1   0   1\n",
            "2   1   1   0\n",
            "3   1   1   1\n",
            "0    0\n",
            "1    1\n",
            "2    1\n",
            "3    0\n",
            "Name: y, dtype: int64\n",
            "2\n",
            "[array([0, 0, 0]), array([0, 0, 0]), array([0, 0, 0]), array([0, 0, 0])]\n",
            "[0 0 0 0 0]\n"
          ]
        }
      ]
    },
    {
      "cell_type": "code",
      "source": [
        "mlp1.train_model()"
      ],
      "metadata": {
        "colab": {
          "base_uri": "https://localhost:8080/",
          "height": 263
        },
        "id": "mCEO2TXPlVMP",
        "outputId": "3999092a-5f1e-47c4-9ad8-4cb553b2041e"
      },
      "execution_count": 23,
      "outputs": [
        {
          "output_type": "error",
          "ename": "UnboundLocalError",
          "evalue": "local variable 'Wij' referenced before assignment",
          "traceback": [
            "\u001b[0;31m---------------------------------------------------------------------------\u001b[0m",
            "\u001b[0;31mUnboundLocalError\u001b[0m                         Traceback (most recent call last)",
            "\u001b[0;32m<ipython-input-23-cef9c7c07ed1>\u001b[0m in \u001b[0;36m<cell line: 1>\u001b[0;34m()\u001b[0m\n\u001b[0;32m----> 1\u001b[0;31m \u001b[0mmlp1\u001b[0m\u001b[0;34m.\u001b[0m\u001b[0mtrain_model\u001b[0m\u001b[0;34m(\u001b[0m\u001b[0;34m)\u001b[0m\u001b[0;34m\u001b[0m\u001b[0;34m\u001b[0m\u001b[0m\n\u001b[0m",
            "\u001b[0;32m<ipython-input-17-fb7b019309d0>\u001b[0m in \u001b[0;36mtrain_model\u001b[0;34m(self)\u001b[0m\n\u001b[1;32m     28\u001b[0m         \u001b[0mWijs\u001b[0m \u001b[0;34m=\u001b[0m \u001b[0mself\u001b[0m\u001b[0;34m.\u001b[0m\u001b[0mWij\u001b[0m\u001b[0;34m\u001b[0m\u001b[0;34m\u001b[0m\u001b[0m\n\u001b[1;32m     29\u001b[0m         \u001b[0mWj1\u001b[0m \u001b[0;34m=\u001b[0m \u001b[0mself\u001b[0m\u001b[0;34m.\u001b[0m\u001b[0mWij\u001b[0m\u001b[0;34m\u001b[0m\u001b[0;34m\u001b[0m\u001b[0m\n\u001b[0;32m---> 30\u001b[0;31m         \u001b[0mm\u001b[0m \u001b[0;34m=\u001b[0m \u001b[0mlen\u001b[0m\u001b[0;34m(\u001b[0m\u001b[0mWij\u001b[0m\u001b[0;34m)\u001b[0m\u001b[0;34m\u001b[0m\u001b[0;34m\u001b[0m\u001b[0m\n\u001b[0m\u001b[1;32m     31\u001b[0m         \u001b[0mp\u001b[0m \u001b[0;34m=\u001b[0m \u001b[0;36m1\u001b[0m\u001b[0;34m\u001b[0m\u001b[0;34m\u001b[0m\u001b[0m\n\u001b[1;32m     32\u001b[0m \u001b[0;34m\u001b[0m\u001b[0m\n",
            "\u001b[0;31mUnboundLocalError\u001b[0m: local variable 'Wij' referenced before assignment"
          ]
        }
      ]
    },
    {
      "cell_type": "code",
      "source": [],
      "metadata": {
        "id": "XIB5i0tewskI"
      },
      "execution_count": null,
      "outputs": []
    }
  ]
}