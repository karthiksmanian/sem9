{
  "cells": [
    {
      "cell_type": "code",
      "execution_count": 1,
      "id": "79f22a60",
      "metadata": {
        "id": "79f22a60"
      },
      "outputs": [],
      "source": [
        "import numpy as np\n",
        "import matplotlib.pyplot as plt"
      ]
    },
    {
      "cell_type": "code",
      "execution_count": 2,
      "id": "b782fa05",
      "metadata": {
        "id": "b782fa05"
      },
      "outputs": [],
      "source": [
        "# 1\n",
        "# system of linear equations solver\n",
        "# a1x1 + b1 x2 = c1\n",
        "# a2x1 + b2 x2 = c2\n",
        "# X + Y  = 6\n",
        "# 3X + 2y = 16"
      ]
    },
    {
      "cell_type": "code",
      "execution_count": 3,
      "id": "01ce579d",
      "metadata": {
        "id": "01ce579d"
      },
      "outputs": [],
      "source": [
        "class System:\n",
        "    def __init__(self, lhs_coeffs, rhs_consts):\n",
        "        self.lhs_coeffs = np.array(lhs_coeffs)\n",
        "        self.rhs_consts = np.array(rhs_consts)\n",
        "        self.linex = np.linspace(-5,5,100)\n",
        "        self.ans = self.solve()\n",
        "\n",
        "    def solve(self):\n",
        "        return np.linalg.solve(self.lhs_coeffs, self.rhs_consts)\n",
        "\n",
        "    def getSolution(self):\n",
        "        print(f\"Values of X and Y are: {self.ans[0], self.ans[1]}\")\n",
        "\n",
        "    def plot(self):\n",
        "        Ylist = list()\n",
        "\n",
        "        for i, rhsval in enumerate(self.rhs_consts):\n",
        "            Ylist.append((rhsval-self.lhs_coeffs[i][0]*self.linex)/self.lhs_coeffs[i][1])\n",
        "            print(rhsval, self.lhs_coeffs[i][0], self.lhs_coeffs[i][1])\n",
        "\n",
        "        for i,Yval in enumerate(Ylist):\n",
        "            plt.plot(self.linex, Yval, label=f\"{self.lhs_coeffs[i][0]}x+{self.lhs_coeffs[i][1]}y= {self.rhs_consts[i]}\")\n",
        "\n",
        "        plt.legend(loc='upper left')\n",
        "        plt.show()"
      ]
    },
    {
      "cell_type": "code",
      "execution_count": 4,
      "id": "5077b9a1",
      "metadata": {
        "id": "5077b9a1"
      },
      "outputs": [],
      "source": [
        "lhs = [[1, 1], [3, 2]]\n",
        "rhs = [6, 16]\n",
        "s1 = System(lhs, rhs)"
      ]
    },
    {
      "cell_type": "code",
      "execution_count": 5,
      "id": "d9545867",
      "metadata": {
        "id": "d9545867",
        "outputId": "428b9434-1b45-43e1-f6b2-ccbd1c592e5a",
        "colab": {
          "base_uri": "https://localhost:8080/"
        }
      },
      "outputs": [
        {
          "output_type": "stream",
          "name": "stdout",
          "text": [
            "Values of X and Y are: (4.0, 2.0000000000000004)\n"
          ]
        }
      ],
      "source": [
        "s1.getSolution()"
      ]
    },
    {
      "cell_type": "code",
      "execution_count": 6,
      "id": "72c1d69d",
      "metadata": {
        "id": "72c1d69d",
        "outputId": "16083fc1-b6df-45c5-f73f-b09e01f0917b",
        "colab": {
          "base_uri": "https://localhost:8080/",
          "height": 465
        }
      },
      "outputs": [
        {
          "output_type": "stream",
          "name": "stdout",
          "text": [
            "6 1 1\n",
            "16 3 2\n"
          ]
        },
        {
          "output_type": "display_data",
          "data": {
            "text/plain": [
              "<Figure size 640x480 with 1 Axes>"
            ],
            "image/png": "[encoded data removed]"
          },
          "metadata": {}
        }
      ],
      "source": [
        "s1.plot()"
      ]
    },
    {
      "cell_type": "code",
      "execution_count": 7,
      "id": "1b81b4c8",
      "metadata": {
        "id": "1b81b4c8",
        "colab": {
          "base_uri": "https://localhost:8080/",
          "height": 321
        },
        "outputId": "60c2ed52-bbfb-4940-84a0-0cd54c2548cd"
      },
      "outputs": [
        {
          "output_type": "error",
          "ename": "LinAlgError",
          "evalue": "Singular matrix",
          "traceback": [
            "\u001b[0;31m---------------------------------------------------------------------------\u001b[0m",
            "\u001b[0;31mLinAlgError\u001b[0m                               Traceback (most recent call last)",
            "\u001b[0;32m<ipython-input-7-37c44edaa404>\u001b[0m in \u001b[0;36m<cell line: 4>\u001b[0;34m()\u001b[0m\n\u001b[1;32m      2\u001b[0m \u001b[0mrhs2\u001b[0m \u001b[0;34m=\u001b[0m \u001b[0;34m[\u001b[0m\u001b[0;36m5\u001b[0m\u001b[0;34m,\u001b[0m \u001b[0;36m12\u001b[0m\u001b[0;34m]\u001b[0m\u001b[0;34m\u001b[0m\u001b[0;34m\u001b[0m\u001b[0m\n\u001b[1;32m      3\u001b[0m \u001b[0;34m\u001b[0m\u001b[0m\n\u001b[0;32m----> 4\u001b[0;31m \u001b[0ms2\u001b[0m \u001b[0;34m=\u001b[0m \u001b[0mSystem\u001b[0m\u001b[0;34m(\u001b[0m\u001b[0mlhs2\u001b[0m\u001b[0;34m,\u001b[0m \u001b[0mrhs2\u001b[0m\u001b[0;34m)\u001b[0m\u001b[0;34m\u001b[0m\u001b[0;34m\u001b[0m\u001b[0m\n\u001b[0m",
            "\u001b[0;32m<ipython-input-3-3d9ce989c771>\u001b[0m in \u001b[0;36m__init__\u001b[0;34m(self, lhs_coeffs, rhs_consts)\u001b[0m\n\u001b[1;32m      4\u001b[0m         \u001b[0mself\u001b[0m\u001b[0;34m.\u001b[0m\u001b[0mrhs_consts\u001b[0m \u001b[0;34m=\u001b[0m \u001b[0mnp\u001b[0m\u001b[0;34m.\u001b[0m\u001b[0marray\u001b[0m\u001b[0;34m(\u001b[0m\u001b[0mrhs_consts\u001b[0m\u001b[0;34m)\u001b[0m\u001b[0;34m\u001b[0m\u001b[0;34m\u001b[0m\u001b[0m\n\u001b[1;32m      5\u001b[0m         \u001b[0mself\u001b[0m\u001b[0;34m.\u001b[0m\u001b[0mlinex\u001b[0m \u001b[0;34m=\u001b[0m \u001b[0mnp\u001b[0m\u001b[0;34m.\u001b[0m\u001b[0mlinspace\u001b[0m\u001b[0;34m(\u001b[0m\u001b[0;34m-\u001b[0m\u001b[0;36m5\u001b[0m\u001b[0;34m,\u001b[0m\u001b[0;36m5\u001b[0m\u001b[0;34m,\u001b[0m\u001b[0;36m100\u001b[0m\u001b[0;34m)\u001b[0m\u001b[0;34m\u001b[0m\u001b[0;34m\u001b[0m\u001b[0m\n\u001b[0;32m----> 6\u001b[0;31m         \u001b[0mself\u001b[0m\u001b[0;34m.\u001b[0m\u001b[0mans\u001b[0m \u001b[0;34m=\u001b[0m \u001b[0mself\u001b[0m\u001b[0;34m.\u001b[0m\u001b[0msolve\u001b[0m\u001b[0;34m(\u001b[0m\u001b[0;34m)\u001b[0m\u001b[0;34m\u001b[0m\u001b[0;34m\u001b[0m\u001b[0m\n\u001b[0m\u001b[1;32m      7\u001b[0m \u001b[0;34m\u001b[0m\u001b[0m\n\u001b[1;32m      8\u001b[0m     \u001b[0;32mdef\u001b[0m \u001b[0msolve\u001b[0m\u001b[0;34m(\u001b[0m\u001b[0mself\u001b[0m\u001b[0;34m)\u001b[0m\u001b[0;34m:\u001b[0m\u001b[0;34m\u001b[0m\u001b[0;34m\u001b[0m\u001b[0m\n",
            "\u001b[0;32m<ipython-input-3-3d9ce989c771>\u001b[0m in \u001b[0;36msolve\u001b[0;34m(self)\u001b[0m\n\u001b[1;32m      7\u001b[0m \u001b[0;34m\u001b[0m\u001b[0m\n\u001b[1;32m      8\u001b[0m     \u001b[0;32mdef\u001b[0m \u001b[0msolve\u001b[0m\u001b[0;34m(\u001b[0m\u001b[0mself\u001b[0m\u001b[0;34m)\u001b[0m\u001b[0;34m:\u001b[0m\u001b[0;34m\u001b[0m\u001b[0;34m\u001b[0m\u001b[0m\n\u001b[0;32m----> 9\u001b[0;31m         \u001b[0;32mreturn\u001b[0m \u001b[0mnp\u001b[0m\u001b[0;34m.\u001b[0m\u001b[0mlinalg\u001b[0m\u001b[0;34m.\u001b[0m\u001b[0msolve\u001b[0m\u001b[0;34m(\u001b[0m\u001b[0mself\u001b[0m\u001b[0;34m.\u001b[0m\u001b[0mlhs_coeffs\u001b[0m\u001b[0;34m,\u001b[0m \u001b[0mself\u001b[0m\u001b[0;34m.\u001b[0m\u001b[0mrhs_consts\u001b[0m\u001b[0;34m)\u001b[0m\u001b[0;34m\u001b[0m\u001b[0;34m\u001b[0m\u001b[0m\n\u001b[0m\u001b[1;32m     10\u001b[0m \u001b[0;34m\u001b[0m\u001b[0m\n\u001b[1;32m     11\u001b[0m     \u001b[0;32mdef\u001b[0m \u001b[0mgetSolution\u001b[0m\u001b[0;34m(\u001b[0m\u001b[0mself\u001b[0m\u001b[0;34m)\u001b[0m\u001b[0;34m:\u001b[0m\u001b[0;34m\u001b[0m\u001b[0;34m\u001b[0m\u001b[0m\n",
            "\u001b[0;32m/usr/local/lib/python3.10/dist-packages/numpy/linalg/linalg.py\u001b[0m in \u001b[0;36msolve\u001b[0;34m(a, b)\u001b[0m\n\u001b[1;32m    407\u001b[0m     \u001b[0msignature\u001b[0m \u001b[0;34m=\u001b[0m \u001b[0;34m'DD->D'\u001b[0m \u001b[0;32mif\u001b[0m \u001b[0misComplexType\u001b[0m\u001b[0;34m(\u001b[0m\u001b[0mt\u001b[0m\u001b[0;34m)\u001b[0m \u001b[0;32melse\u001b[0m \u001b[0;34m'dd->d'\u001b[0m\u001b[0;34m\u001b[0m\u001b[0;34m\u001b[0m\u001b[0m\n\u001b[1;32m    408\u001b[0m     \u001b[0mextobj\u001b[0m \u001b[0;34m=\u001b[0m \u001b[0mget_linalg_error_extobj\u001b[0m\u001b[0;34m(\u001b[0m\u001b[0m_raise_linalgerror_singular\u001b[0m\u001b[0;34m)\u001b[0m\u001b[0;34m\u001b[0m\u001b[0;34m\u001b[0m\u001b[0m\n\u001b[0;32m--> 409\u001b[0;31m     \u001b[0mr\u001b[0m \u001b[0;34m=\u001b[0m \u001b[0mgufunc\u001b[0m\u001b[0;34m(\u001b[0m\u001b[0ma\u001b[0m\u001b[0;34m,\u001b[0m \u001b[0mb\u001b[0m\u001b[0;34m,\u001b[0m \u001b[0msignature\u001b[0m\u001b[0;34m=\u001b[0m\u001b[0msignature\u001b[0m\u001b[0;34m,\u001b[0m \u001b[0mextobj\u001b[0m\u001b[0;34m=\u001b[0m\u001b[0mextobj\u001b[0m\u001b[0;34m)\u001b[0m\u001b[0;34m\u001b[0m\u001b[0;34m\u001b[0m\u001b[0m\n\u001b[0m\u001b[1;32m    410\u001b[0m \u001b[0;34m\u001b[0m\u001b[0m\n\u001b[1;32m    411\u001b[0m     \u001b[0;32mreturn\u001b[0m \u001b[0mwrap\u001b[0m\u001b[0;34m(\u001b[0m\u001b[0mr\u001b[0m\u001b[0;34m.\u001b[0m\u001b[0mastype\u001b[0m\u001b[0;34m(\u001b[0m\u001b[0mresult_t\u001b[0m\u001b[0;34m,\u001b[0m \u001b[0mcopy\u001b[0m\u001b[0;34m=\u001b[0m\u001b[0;32mFalse\u001b[0m\u001b[0;34m)\u001b[0m\u001b[0;34m)\u001b[0m\u001b[0;34m\u001b[0m\u001b[0;34m\u001b[0m\u001b[0m\n",
            "\u001b[0;32m/usr/local/lib/python3.10/dist-packages/numpy/linalg/linalg.py\u001b[0m in \u001b[0;36m_raise_linalgerror_singular\u001b[0;34m(err, flag)\u001b[0m\n\u001b[1;32m    110\u001b[0m \u001b[0;34m\u001b[0m\u001b[0m\n\u001b[1;32m    111\u001b[0m \u001b[0;32mdef\u001b[0m \u001b[0m_raise_linalgerror_singular\u001b[0m\u001b[0;34m(\u001b[0m\u001b[0merr\u001b[0m\u001b[0;34m,\u001b[0m \u001b[0mflag\u001b[0m\u001b[0;34m)\u001b[0m\u001b[0;34m:\u001b[0m\u001b[0;34m\u001b[0m\u001b[0;34m\u001b[0m\u001b[0m\n\u001b[0;32m--> 112\u001b[0;31m     \u001b[0;32mraise\u001b[0m \u001b[0mLinAlgError\u001b[0m\u001b[0;34m(\u001b[0m\u001b[0;34m\"Singular matrix\"\u001b[0m\u001b[0;34m)\u001b[0m\u001b[0;34m\u001b[0m\u001b[0;34m\u001b[0m\u001b[0m\n\u001b[0m\u001b[1;32m    113\u001b[0m \u001b[0;34m\u001b[0m\u001b[0m\n\u001b[1;32m    114\u001b[0m \u001b[0;32mdef\u001b[0m \u001b[0m_raise_linalgerror_nonposdef\u001b[0m\u001b[0;34m(\u001b[0m\u001b[0merr\u001b[0m\u001b[0;34m,\u001b[0m \u001b[0mflag\u001b[0m\u001b[0;34m)\u001b[0m\u001b[0;34m:\u001b[0m\u001b[0;34m\u001b[0m\u001b[0;34m\u001b[0m\u001b[0m\n",
            "\u001b[0;31mLinAlgError\u001b[0m: Singular matrix"
          ]
        }
      ],
      "source": [
        "lhs2 = [[1, 1], [3, 3]]\n",
        "rhs2 = [5, 12]\n",
        "\n",
        "s2 = System(lhs2, rhs2)"
      ]
    },
    {
      "cell_type": "code",
      "execution_count": null,
      "id": "15bb962f",
      "metadata": {
        "id": "15bb962f"
      },
      "outputs": [],
      "source": [
        "s2.getSolution()"
      ]
    },
    {
      "cell_type": "code",
      "execution_count": null,
      "id": "1c845dbf",
      "metadata": {
        "id": "1c845dbf"
      },
      "outputs": [],
      "source": [
        "s2.plot()"
      ]
    },
    {
      "cell_type": "code",
      "execution_count": 8,
      "id": "8dfc07af",
      "metadata": {
        "id": "8dfc07af",
        "outputId": "d6043d33-0871-4a0b-9269-b1b224cae319",
        "colab": {
          "base_uri": "https://localhost:8080/",
          "height": 321
        }
      },
      "outputs": [
        {
          "output_type": "error",
          "ename": "LinAlgError",
          "evalue": "Singular matrix",
          "traceback": [
            "\u001b[0;31m---------------------------------------------------------------------------\u001b[0m",
            "\u001b[0;31mLinAlgError\u001b[0m                               Traceback (most recent call last)",
            "\u001b[0;32m<ipython-input-8-aa1efeb2a474>\u001b[0m in \u001b[0;36m<cell line: 4>\u001b[0;34m()\u001b[0m\n\u001b[1;32m      2\u001b[0m \u001b[0mrhs3\u001b[0m \u001b[0;34m=\u001b[0m \u001b[0;34m[\u001b[0m\u001b[0;36m6\u001b[0m\u001b[0;34m,\u001b[0m \u001b[0;36m18\u001b[0m\u001b[0;34m]\u001b[0m\u001b[0;34m\u001b[0m\u001b[0;34m\u001b[0m\u001b[0m\n\u001b[1;32m      3\u001b[0m \u001b[0;34m\u001b[0m\u001b[0m\n\u001b[0;32m----> 4\u001b[0;31m \u001b[0ms3\u001b[0m \u001b[0;34m=\u001b[0m \u001b[0mSystem\u001b[0m\u001b[0;34m(\u001b[0m\u001b[0mlhs3\u001b[0m\u001b[0;34m,\u001b[0m \u001b[0mrhs3\u001b[0m\u001b[0;34m)\u001b[0m\u001b[0;34m\u001b[0m\u001b[0;34m\u001b[0m\u001b[0m\n\u001b[0m",
            "\u001b[0;32m<ipython-input-3-3d9ce989c771>\u001b[0m in \u001b[0;36m__init__\u001b[0;34m(self, lhs_coeffs, rhs_consts)\u001b[0m\n\u001b[1;32m      4\u001b[0m         \u001b[0mself\u001b[0m\u001b[0;34m.\u001b[0m\u001b[0mrhs_consts\u001b[0m \u001b[0;34m=\u001b[0m \u001b[0mnp\u001b[0m\u001b[0;34m.\u001b[0m\u001b[0marray\u001b[0m\u001b[0;34m(\u001b[0m\u001b[0mrhs_consts\u001b[0m\u001b[0;34m)\u001b[0m\u001b[0;34m\u001b[0m\u001b[0;34m\u001b[0m\u001b[0m\n\u001b[1;32m      5\u001b[0m         \u001b[0mself\u001b[0m\u001b[0;34m.\u001b[0m\u001b[0mlinex\u001b[0m \u001b[0;34m=\u001b[0m \u001b[0mnp\u001b[0m\u001b[0;34m.\u001b[0m\u001b[0mlinspace\u001b[0m\u001b[0;34m(\u001b[0m\u001b[0;34m-\u001b[0m\u001b[0;36m5\u001b[0m\u001b[0;34m,\u001b[0m\u001b[0;36m5\u001b[0m\u001b[0;34m,\u001b[0m\u001b[0;36m100\u001b[0m\u001b[0;34m)\u001b[0m\u001b[0;34m\u001b[0m\u001b[0;34m\u001b[0m\u001b[0m\n\u001b[0;32m----> 6\u001b[0;31m         \u001b[0mself\u001b[0m\u001b[0;34m.\u001b[0m\u001b[0mans\u001b[0m \u001b[0;34m=\u001b[0m \u001b[0mself\u001b[0m\u001b[0;34m.\u001b[0m\u001b[0msolve\u001b[0m\u001b[0;34m(\u001b[0m\u001b[0;34m)\u001b[0m\u001b[0;34m\u001b[0m\u001b[0;34m\u001b[0m\u001b[0m\n\u001b[0m\u001b[1;32m      7\u001b[0m \u001b[0;34m\u001b[0m\u001b[0m\n\u001b[1;32m      8\u001b[0m     \u001b[0;32mdef\u001b[0m \u001b[0msolve\u001b[0m\u001b[0;34m(\u001b[0m\u001b[0mself\u001b[0m\u001b[0;34m)\u001b[0m\u001b[0;34m:\u001b[0m\u001b[0;34m\u001b[0m\u001b[0;34m\u001b[0m\u001b[0m\n",
            "\u001b[0;32m<ipython-input-3-3d9ce989c771>\u001b[0m in \u001b[0;36msolve\u001b[0;34m(self)\u001b[0m\n\u001b[1;32m      7\u001b[0m \u001b[0;34m\u001b[0m\u001b[0m\n\u001b[1;32m      8\u001b[0m     \u001b[0;32mdef\u001b[0m \u001b[0msolve\u001b[0m\u001b[0;34m(\u001b[0m\u001b[0mself\u001b[0m\u001b[0;34m)\u001b[0m\u001b[0;34m:\u001b[0m\u001b[0;34m\u001b[0m\u001b[0;34m\u001b[0m\u001b[0m\n\u001b[0;32m----> 9\u001b[0;31m         \u001b[0;32mreturn\u001b[0m \u001b[0mnp\u001b[0m\u001b[0;34m.\u001b[0m\u001b[0mlinalg\u001b[0m\u001b[0;34m.\u001b[0m\u001b[0msolve\u001b[0m\u001b[0;34m(\u001b[0m\u001b[0mself\u001b[0m\u001b[0;34m.\u001b[0m\u001b[0mlhs_coeffs\u001b[0m\u001b[0;34m,\u001b[0m \u001b[0mself\u001b[0m\u001b[0;34m.\u001b[0m\u001b[0mrhs_consts\u001b[0m\u001b[0;34m)\u001b[0m\u001b[0;34m\u001b[0m\u001b[0;34m\u001b[0m\u001b[0m\n\u001b[0m\u001b[1;32m     10\u001b[0m \u001b[0;34m\u001b[0m\u001b[0m\n\u001b[1;32m     11\u001b[0m     \u001b[0;32mdef\u001b[0m \u001b[0mgetSolution\u001b[0m\u001b[0;34m(\u001b[0m\u001b[0mself\u001b[0m\u001b[0;34m)\u001b[0m\u001b[0;34m:\u001b[0m\u001b[0;34m\u001b[0m\u001b[0;34m\u001b[0m\u001b[0m\n",
            "\u001b[0;32m/usr/local/lib/python3.10/dist-packages/numpy/linalg/linalg.py\u001b[0m in \u001b[0;36msolve\u001b[0;34m(a, b)\u001b[0m\n\u001b[1;32m    407\u001b[0m     \u001b[0msignature\u001b[0m \u001b[0;34m=\u001b[0m \u001b[0;34m'DD->D'\u001b[0m \u001b[0;32mif\u001b[0m \u001b[0misComplexType\u001b[0m\u001b[0;34m(\u001b[0m\u001b[0mt\u001b[0m\u001b[0;34m)\u001b[0m \u001b[0;32melse\u001b[0m \u001b[0;34m'dd->d'\u001b[0m\u001b[0;34m\u001b[0m\u001b[0;34m\u001b[0m\u001b[0m\n\u001b[1;32m    408\u001b[0m     \u001b[0mextobj\u001b[0m \u001b[0;34m=\u001b[0m \u001b[0mget_linalg_error_extobj\u001b[0m\u001b[0;34m(\u001b[0m\u001b[0m_raise_linalgerror_singular\u001b[0m\u001b[0;34m)\u001b[0m\u001b[0;34m\u001b[0m\u001b[0;34m\u001b[0m\u001b[0m\n\u001b[0;32m--> 409\u001b[0;31m     \u001b[0mr\u001b[0m \u001b[0;34m=\u001b[0m \u001b[0mgufunc\u001b[0m\u001b[0;34m(\u001b[0m\u001b[0ma\u001b[0m\u001b[0;34m,\u001b[0m \u001b[0mb\u001b[0m\u001b[0;34m,\u001b[0m \u001b[0msignature\u001b[0m\u001b[0;34m=\u001b[0m\u001b[0msignature\u001b[0m\u001b[0;34m,\u001b[0m \u001b[0mextobj\u001b[0m\u001b[0;34m=\u001b[0m\u001b[0mextobj\u001b[0m\u001b[0;34m)\u001b[0m\u001b[0;34m\u001b[0m\u001b[0;34m\u001b[0m\u001b[0m\n\u001b[0m\u001b[1;32m    410\u001b[0m \u001b[0;34m\u001b[0m\u001b[0m\n\u001b[1;32m    411\u001b[0m     \u001b[0;32mreturn\u001b[0m \u001b[0mwrap\u001b[0m\u001b[0;34m(\u001b[0m\u001b[0mr\u001b[0m\u001b[0;34m.\u001b[0m\u001b[0mastype\u001b[0m\u001b[0;34m(\u001b[0m\u001b[0mresult_t\u001b[0m\u001b[0;34m,\u001b[0m \u001b[0mcopy\u001b[0m\u001b[0;34m=\u001b[0m\u001b[0;32mFalse\u001b[0m\u001b[0;34m)\u001b[0m\u001b[0;34m)\u001b[0m\u001b[0;34m\u001b[0m\u001b[0;34m\u001b[0m\u001b[0m\n",
            "\u001b[0;32m/usr/local/lib/python3.10/dist-packages/numpy/linalg/linalg.py\u001b[0m in \u001b[0;36m_raise_linalgerror_singular\u001b[0;34m(err, flag)\u001b[0m\n\u001b[1;32m    110\u001b[0m \u001b[0;34m\u001b[0m\u001b[0m\n\u001b[1;32m    111\u001b[0m \u001b[0;32mdef\u001b[0m \u001b[0m_raise_linalgerror_singular\u001b[0m\u001b[0;34m(\u001b[0m\u001b[0merr\u001b[0m\u001b[0;34m,\u001b[0m \u001b[0mflag\u001b[0m\u001b[0;34m)\u001b[0m\u001b[0;34m:\u001b[0m\u001b[0;34m\u001b[0m\u001b[0;34m\u001b[0m\u001b[0m\n\u001b[0;32m--> 112\u001b[0;31m     \u001b[0;32mraise\u001b[0m \u001b[0mLinAlgError\u001b[0m\u001b[0;34m(\u001b[0m\u001b[0;34m\"Singular matrix\"\u001b[0m\u001b[0;34m)\u001b[0m\u001b[0;34m\u001b[0m\u001b[0;34m\u001b[0m\u001b[0m\n\u001b[0m\u001b[1;32m    113\u001b[0m \u001b[0;34m\u001b[0m\u001b[0m\n\u001b[1;32m    114\u001b[0m \u001b[0;32mdef\u001b[0m \u001b[0m_raise_linalgerror_nonposdef\u001b[0m\u001b[0;34m(\u001b[0m\u001b[0merr\u001b[0m\u001b[0;34m,\u001b[0m \u001b[0mflag\u001b[0m\u001b[0;34m)\u001b[0m\u001b[0;34m:\u001b[0m\u001b[0;34m\u001b[0m\u001b[0;34m\u001b[0m\u001b[0m\n",
            "\u001b[0;31mLinAlgError\u001b[0m: Singular matrix"
          ]
        }
      ],
      "source": [
        "lhs3 = [[1, 1], [3, 3]]\n",
        "rhs3 = [6, 18]\n",
        "\n",
        "s3 = System(lhs3, rhs3)"
      ]
    },
    {
      "cell_type": "code",
      "execution_count": null,
      "id": "3ad2feca",
      "metadata": {
        "id": "3ad2feca"
      },
      "outputs": [],
      "source": [
        "s3.getSolution()"
      ]
    },
    {
      "cell_type": "code",
      "execution_count": null,
      "id": "fdf1807c",
      "metadata": {
        "id": "fdf1807c"
      },
      "outputs": [],
      "source": [
        "s3.plot()"
      ]
    },
    {
      "cell_type": "code",
      "execution_count": 9,
      "id": "luSEWuaqUti_",
      "metadata": {
        "id": "luSEWuaqUti_"
      },
      "outputs": [],
      "source": [
        "# 3 Plot the functions\n",
        "from sympy import *"
      ]
    },
    {
      "cell_type": "code",
      "execution_count": 10,
      "id": "dVzz1e80UvVh",
      "metadata": {
        "id": "dVzz1e80UvVh"
      },
      "outputs": [],
      "source": [
        "x, y = symbols('x y')\n",
        "f1 = x**2\n",
        "f2 = x**3\n",
        "f3 = x*log(x)"
      ]
    },
    {
      "cell_type": "code",
      "execution_count": 11,
      "id": "obdDcCooUzPh",
      "metadata": {
        "colab": {
          "base_uri": "https://localhost:8080/",
          "height": 501
        },
        "id": "obdDcCooUzPh",
        "outputId": "285b9023-19c1-42be-a9f8-749e07f866c0"
      },
      "outputs": [
        {
          "output_type": "display_data",
          "data": {
            "text/plain": [
              "<Figure size 640x480 with 1 Axes>"
            ],
            "image/png": "[encoded data removed]"
          },
          "metadata": {}
        },
        {
          "output_type": "execute_result",
          "data": {
            "text/plain": [
              "<sympy.plotting.plot.Plot at 0x79867c708d30>"
            ]
          },
          "metadata": {},
          "execution_count": 11
        }
      ],
      "source": [
        "plotting.plot(f1)"
      ]
    },
    {
      "cell_type": "code",
      "execution_count": 12,
      "id": "e5Qp0ecvdbhc",
      "metadata": {
        "colab": {
          "base_uri": "https://localhost:8080/",
          "height": 504
        },
        "id": "e5Qp0ecvdbhc",
        "outputId": "44b39c7e-06d7-49e3-b97c-7adcd68c027f"
      },
      "outputs": [
        {
          "output_type": "display_data",
          "data": {
            "text/plain": [
              "<Figure size 640x480 with 1 Axes>"
            ],
            "image/png": "[encoded data removed]"
          },
          "metadata": {}
        },
        {
          "output_type": "execute_result",
          "data": {
            "text/plain": [
              "<sympy.plotting.plot.Plot at 0x79867c725480>"
            ]
          },
          "metadata": {},
          "execution_count": 12
        }
      ],
      "source": [
        "plotting.plot(f2)"
      ]
    },
    {
      "cell_type": "code",
      "execution_count": 13,
      "id": "OoZJv2miWNHG",
      "metadata": {
        "colab": {
          "base_uri": "https://localhost:8080/"
        },
        "id": "OoZJv2miWNHG",
        "outputId": "9ae43e65-0e48-4336-b226-205293b1da9c"
      },
      "outputs": [
        {
          "output_type": "stream",
          "name": "stdout",
          "text": [
            "Second ord. derivative:2, Range of Convexity: Reals, Range of Concavity: EmptySet\n"
          ]
        }
      ],
      "source": [
        "f1prime = Derivative(f1, x).doit()\n",
        "f1prime2 = Derivative(f1prime, x).doit()\n",
        "print(f\"Second ord. derivative:{f1prime2}, Range of Convexity: {solveset(f1prime2>0, x, Reals)}, Range of Concavity: {solveset(f1prime2<0, x, Reals)}\")"
      ]
    },
    {
      "cell_type": "code",
      "execution_count": 14,
      "id": "bIWo86T0Wzfm",
      "metadata": {
        "colab": {
          "base_uri": "https://localhost:8080/"
        },
        "id": "bIWo86T0Wzfm",
        "outputId": "f2fad8d0-a660-481e-a2f1-c42fd873ce81"
      },
      "outputs": [
        {
          "output_type": "stream",
          "name": "stdout",
          "text": [
            "Second ord. derivative:6*x, Range of Convexity: Interval.open(0, oo), Range of Concavity: Interval.open(-oo, 0)\n"
          ]
        }
      ],
      "source": [
        "f2prime = Derivative(f2, x).doit()\n",
        "f2prime2 = Derivative(f2prime, x).doit()\n",
        "print(f\"Second ord. derivative:{f2prime2}, Range of Convexity: {solveset(f2prime2>0, x, Reals)}, Range of Concavity: {solveset(f2prime2<0, x, Reals)}\")"
      ]
    },
    {
      "cell_type": "code",
      "execution_count": 15,
      "id": "E0rHvfXVW0P8",
      "metadata": {
        "colab": {
          "base_uri": "https://localhost:8080/"
        },
        "id": "E0rHvfXVW0P8",
        "outputId": "367551f9-61c8-4dfc-e8c2-2e004497716a"
      },
      "outputs": [
        {
          "output_type": "stream",
          "name": "stdout",
          "text": [
            "Second ord. derivative:1/x, Range of Convexity: Interval.open(0, oo), Range of Concavity: Interval.open(-oo, 0)\n"
          ]
        }
      ],
      "source": [
        "f3prime = Derivative(f3, x).doit()\n",
        "f3prime2 = Derivative(f3prime, x).doit()\n",
        "print(f\"Second ord. derivative:{f3prime2}, Range of Convexity: {solveset(f3prime2>0, x, Reals)}, Range of Concavity: {solveset(f3prime2<0, x, Reals)}\")"
      ]
    },
    {
      "cell_type": "code",
      "execution_count": 16,
      "id": "pzrYSC_KXUEG",
      "metadata": {
        "colab": {
          "base_uri": "https://localhost:8080/"
        },
        "id": "pzrYSC_KXUEG",
        "outputId": "a5a85520-5f7a-4da4-8fdd-bc0d59a10efd"
      },
      "outputs": [
        {
          "output_type": "stream",
          "name": "stdout",
          "text": [
            "Second ord. derivative:0, Range of Convexity: EmptySet, Range of Concavity: EmptySet\n",
            "Second ord. derivative:0, Range of Convexity: EmptySet, Range of Concavity: EmptySet\n"
          ]
        }
      ],
      "source": [
        "# f(x) = mod(x)\n",
        "f4prime = Derivative(x, x).doit()\n",
        "f4prime2 = Derivative(f4prime, x).doit()\n",
        "print(f\"Second ord. derivative:{f4prime2}, Range of Convexity: {solveset(f4prime2>0, x, Reals)}, Range of Concavity: {solveset(f4prime2<0, x, Reals)}\")\n",
        "f4prime = Derivative(-x, x).doit()\n",
        "f4prime2 = Derivative(f4prime, x).doit()\n",
        "print(f\"Second ord. derivative:{f4prime2}, Range of Convexity: {solveset(f4prime2>0, x, Reals)}, Range of Concavity: {solveset(f4prime2<0, x, Reals)}\")"
      ]
    },
    {
      "cell_type": "code",
      "execution_count": 17,
      "id": "sRfP-tb0XXRm",
      "metadata": {
        "id": "sRfP-tb0XXRm"
      },
      "outputs": [],
      "source": [
        "# 4"
      ]
    },
    {
      "cell_type": "code",
      "source": [
        "class Matrix:\n",
        "    def __init__(self, mat):\n",
        "        self.mat = np.array(mat)\n",
        "        self.rank = np.linalg.matrix_rank(self.mat)\n",
        "        self.isSquare = self.find_squarity()\n",
        "        self.det = self.calc_det()\n",
        "        self.transpose = self.mat.T\n",
        "        self.inverse = self.calc_inverse()\n",
        "        self.isOrthogonal = self.find_orthogonality()\n",
        "        self.cov_mat = self.calc_covmatrix()\n",
        "        self.corr_mat = self.calc_corrmatrix()\n",
        "\n",
        "    def find_squarity(self):\n",
        "        if len(set(self.mat.shape))==1:\n",
        "            return True\n",
        "        return False\n",
        "\n",
        "    def calc_det(self):\n",
        "        if self.isSquare:\n",
        "            return np.linalg.det(self.mat)\n",
        "        return None\n",
        "\n",
        "    def calc_inverse(self):\n",
        "        if self.det:\n",
        "            return np.linalg.inv(self.mat)\n",
        "        return None\n",
        "\n",
        "    def find_orthogonality(self):\n",
        "        if self.det:\n",
        "            if np.all(self.transpose == self.inverse):\n",
        "                return True\n",
        "            else:\n",
        "                return False\n",
        "        return None\n",
        "\n",
        "    def calc_covmatrix(self):\n",
        "        # if self.isSquare:\n",
        "        return np.cov(self.mat)\n",
        "        return None\n",
        "\n",
        "    def calc_corrmatrix(self):\n",
        "        # if self.isSquare:\n",
        "        return np.corrcoef(self.transpose)\n",
        "        return None\n",
        "\n",
        "    def display_attr(self):\n",
        "        print(f\"The matrix\")\n",
        "        for row in self.mat:\n",
        "            print(row)\n",
        "\n",
        "        print(f\"Rank: {self.rank}, Det: {self.det}\")\n",
        "\n",
        "        print(f\"The transpose\")\n",
        "\n",
        "        for row in self.transpose:\n",
        "            print(row)\n",
        "\n",
        "        print(f\"The inverse\")\n",
        "        if self.det:\n",
        "          for row in self.inverse:\n",
        "              print(row)\n",
        "\n",
        "        print(f\"Orthogonality : {self.isOrthogonal}\")\n",
        "\n",
        "        print(f\"Covariance Matrix\")\n",
        "\n",
        "        # if self.isSquare:\n",
        "        for row in self.cov_mat:\n",
        "            print(row)\n",
        "\n",
        "        print(f\"Correlation Matrix\")\n",
        "\n",
        "        # if self.isSquare:\n",
        "        for row in self.corr_mat:\n",
        "            print(row)\n",
        "\n",
        "        print(\". . .\")"
      ],
      "metadata": {
        "id": "1uU2NZruTiG1"
      },
      "id": "1uU2NZruTiG1",
      "execution_count": 55,
      "outputs": []
    },
    {
      "cell_type": "code",
      "source": [
        "A1 = [[1, 0, 0],[0, 1, 0],[0, 0, 1]]"
      ],
      "metadata": {
        "id": "T-F-iIV7S4IM"
      },
      "id": "T-F-iIV7S4IM",
      "execution_count": 22,
      "outputs": []
    },
    {
      "cell_type": "code",
      "source": [
        "A2 = [[1, 2, 3],[4, 5, 6],[7, 8, 9]]"
      ],
      "metadata": {
        "id": "q77WWi8MTD5a"
      },
      "id": "q77WWi8MTD5a",
      "execution_count": 23,
      "outputs": []
    },
    {
      "cell_type": "code",
      "source": [
        "A3 = [[1, 2, 3],[2, 4, 5],[3, 5, 6]]"
      ],
      "metadata": {
        "id": "JW0aOymSTd1K"
      },
      "id": "JW0aOymSTd1K",
      "execution_count": 24,
      "outputs": []
    },
    {
      "cell_type": "code",
      "source": [
        "A4 = [[1, 2, 3, 4],[5, 6, 7, 8],[9, 10, 11, 12]]"
      ],
      "metadata": {
        "id": "OJcbTutjTeTK"
      },
      "id": "OJcbTutjTeTK",
      "execution_count": 25,
      "outputs": []
    },
    {
      "cell_type": "code",
      "source": [
        "m1 = Matrix(A1)\n",
        "m1.display_attr()"
      ],
      "metadata": {
        "colab": {
          "base_uri": "https://localhost:8080/"
        },
        "id": "8fkZagpVckJx",
        "outputId": "1f0504b8-d959-4baa-e922-e01e0da5441d"
      },
      "id": "8fkZagpVckJx",
      "execution_count": 60,
      "outputs": [
        {
          "output_type": "stream",
          "name": "stdout",
          "text": [
            "The matrix\n",
            "[1 0 0]\n",
            "[0 1 0]\n",
            "[0 0 1]\n",
            "Rank: 3, Det: 1.0\n",
            "The transpose\n",
            "[1 0 0]\n",
            "[0 1 0]\n",
            "[0 0 1]\n",
            "The inverse\n",
            "[1. 0. 0.]\n",
            "[0. 1. 0.]\n",
            "[0. 0. 1.]\n",
            "Orthogonality : True\n",
            "Covariance Matrix\n",
            "[ 0.33333333 -0.16666667 -0.16666667]\n",
            "[-0.16666667  0.33333333 -0.16666667]\n",
            "[-0.16666667 -0.16666667  0.33333333]\n",
            "Correlation Matrix\n",
            "[ 1.  -0.5 -0.5]\n",
            "[-0.5  1.  -0.5]\n",
            "[-0.5 -0.5  1. ]\n",
            ". . .\n"
          ]
        }
      ]
    },
    {
      "cell_type": "code",
      "source": [
        "m2 = Matrix(A2)\n",
        "m2.display_attr()"
      ],
      "metadata": {
        "colab": {
          "base_uri": "https://localhost:8080/"
        },
        "id": "_VA7XhUpcoBQ",
        "outputId": "675d42b6-5694-4332-fcb2-ba01c7a35d56"
      },
      "id": "_VA7XhUpcoBQ",
      "execution_count": 61,
      "outputs": [
        {
          "output_type": "stream",
          "name": "stdout",
          "text": [
            "The matrix\n",
            "[1 2 3]\n",
            "[4 5 6]\n",
            "[7 8 9]\n",
            "Rank: 2, Det: 0.0\n",
            "The transpose\n",
            "[1 4 7]\n",
            "[2 5 8]\n",
            "[3 6 9]\n",
            "The inverse\n",
            "Orthogonality : None\n",
            "Covariance Matrix\n",
            "[1. 1. 1.]\n",
            "[1. 1. 1.]\n",
            "[1. 1. 1.]\n",
            "Correlation Matrix\n",
            "[1. 1. 1.]\n",
            "[1. 1. 1.]\n",
            "[1. 1. 1.]\n",
            ". . .\n"
          ]
        }
      ]
    },
    {
      "cell_type": "code",
      "source": [
        "m3 = Matrix(A3)\n",
        "m3.display_attr()"
      ],
      "metadata": {
        "colab": {
          "base_uri": "https://localhost:8080/"
        },
        "id": "A_wPRu3Kd3xD",
        "outputId": "509db29a-c5e8-4e4c-dcb6-f7d6a65c12b4"
      },
      "id": "A_wPRu3Kd3xD",
      "execution_count": 62,
      "outputs": [
        {
          "output_type": "stream",
          "name": "stdout",
          "text": [
            "The matrix\n",
            "[1 2 3]\n",
            "[2 4 5]\n",
            "[3 5 6]\n",
            "Rank: 3, Det: -1.0000000000000007\n",
            "The transpose\n",
            "[1 2 3]\n",
            "[2 4 5]\n",
            "[3 5 6]\n",
            "The inverse\n",
            "[ 1. -3.  2.]\n",
            "[-3.  3. -1.]\n",
            "[ 2. -1.  0.]\n",
            "Orthogonality : False\n",
            "Covariance Matrix\n",
            "[1.  1.5 1.5]\n",
            "[1.5        2.33333333 2.33333333]\n",
            "[1.5        2.33333333 2.33333333]\n",
            "Correlation Matrix\n",
            "[1.         0.98198051 0.98198051]\n",
            "[0.98198051 1.         1.        ]\n",
            "[0.98198051 1.         1.        ]\n",
            ". . .\n"
          ]
        }
      ]
    },
    {
      "cell_type": "code",
      "source": [
        "m4 = Matrix(A4)\n",
        "m4.display_attr()"
      ],
      "metadata": {
        "colab": {
          "base_uri": "https://localhost:8080/"
        },
        "id": "44eZn3j1eYkA",
        "outputId": "ed1e9913-524f-453b-e158-0803b8addce3"
      },
      "id": "44eZn3j1eYkA",
      "execution_count": 63,
      "outputs": [
        {
          "output_type": "stream",
          "name": "stdout",
          "text": [
            "The matrix\n",
            "[1 2 3 4]\n",
            "[5 6 7 8]\n",
            "[ 9 10 11 12]\n",
            "Rank: 2, Det: None\n",
            "The transpose\n",
            "[1 5 9]\n",
            "[ 2  6 10]\n",
            "[ 3  7 11]\n",
            "[ 4  8 12]\n",
            "The inverse\n",
            "Orthogonality : None\n",
            "Covariance Matrix\n",
            "[1.66666667 1.66666667 1.66666667]\n",
            "[1.66666667 1.66666667 1.66666667]\n",
            "[1.66666667 1.66666667 1.66666667]\n",
            "Correlation Matrix\n",
            "[1. 1. 1. 1.]\n",
            "[1. 1. 1. 1.]\n",
            "[1. 1. 1. 1.]\n",
            "[1. 1. 1. 1.]\n",
            ". . .\n"
          ]
        }
      ]
    }
  ],
  "metadata": {
    "colab": {
      "provenance": []
    },
    "kernelspec": {
      "display_name": "Python 3 (ipykernel)",
      "language": "python",
      "name": "python3"
    },
    "language_info": {
      "codemirror_mode": {
        "name": "ipython",
        "version": 3
      },
      "file_extension": ".py",
      "mimetype": "text/x-python",
      "name": "python",
      "nbconvert_exporter": "python",
      "pygments_lexer": "ipython3",
      "version": "3.10.9"
    }
  },
  "nbformat": 4,
  "nbformat_minor": 5
}